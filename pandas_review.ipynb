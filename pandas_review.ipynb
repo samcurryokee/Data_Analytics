{
 "cells": [
  {
   "cell_type": "markdown",
   "metadata": {},
   "source": [
    "Loading data into pandas data frame."
   ]
  },
  {
   "cell_type": "code",
   "execution_count": 2,
   "metadata": {},
   "outputs": [
    {
     "name": "stdout",
     "output_type": "stream",
     "text": [
      "   #       Name Type 1  Type 2  Total  HP  Attack  Defense  Sp. Atk  Sp. Def  \\\n",
      "0  1  Bulbasaur  Grass  Poison    318  45      49       49       65       65   \n",
      "1  2    Ivysaur  Grass  Poison    405  60      62       63       80       80   \n",
      "2  3   Venusaur  Grass  Poison    525  80      82       83      100      100   \n",
      "\n",
      "   Speed  Generation  Legendary  \n",
      "0     45           1      False  \n",
      "1     60           1      False  \n",
      "2     80           1      False  \n"
     ]
    }
   ],
   "source": [
    "import pandas as pd\n",
    "df=pd.read_csv(\"Pokemon.csv\")\n",
    "print(df.head(3))\n",
    "#for reading in tab separated file use pd.read_csv(\"pokemon.txt\",delimeter=\"\\t\")\n",
    "\n",
    "\n"
   ]
  },
  {
   "cell_type": "markdown",
   "metadata": {},
   "source": [
    "READING DATA IN PANDAS\n"
   ]
  },
  {
   "cell_type": "code",
   "execution_count": null,
   "metadata": {},
   "outputs": [],
   "source": [
    "##Read the Headers\n",
    "df.columns\n",
    "\n",
    "##read each columns\n",
    "print(df[[\"Name\",\"Type 1\"]])\n",
    "\n",
    "##Read Each Row\n",
    "print(df.iloc[0:4])\n",
    "\n",
    "##Read a specific element in a location(R,C)\n",
    "print(df.iloc[2,1])\n",
    "\n",
    "##To iterate throw the rows in a dataset\n",
    "for index ,row  in df.iterrows():\n",
    "    print(index,row[\"Name\"])\n",
    "\n",
    "## used to specify the elements with specific characteristics\n",
    "df.loc[df[\"Type 1\"]==\"Fire\"]       \n",
    "\n"
   ]
  },
  {
   "cell_type": "markdown",
   "metadata": {},
   "source": [
    "Sorting/Describing Data\n"
   ]
  },
  {
   "cell_type": "code",
   "execution_count": null,
   "metadata": {},
   "outputs": [],
   "source": [
    "#checking high level summary statistics for the dataset\n",
    "#df.describe()\n",
    "\n",
    "#to sort the values\n",
    "df.sort_values([\"Type 1\",\"HP\"],ascending=[1,0])\n",
    "\n",
    "  "
   ]
  },
  {
   "cell_type": "markdown",
   "metadata": {},
   "source": [
    "Making Changes to the data\n"
   ]
  },
  {
   "cell_type": "code",
   "execution_count": null,
   "metadata": {},
   "outputs": [],
   "source": [
    "##Adding a totals column in the dataset\n",
    "#df['Total' ] = df['HP'] + df['Attack'] + df['Defense'] + df['Sp. Def'] + df['Sp. Atk'] + df['Speed']\n",
    "#print(df)\n",
    "##Alternatively to sum all the rows in the dataset \n",
    "#df['Totals']= df.sum(axis=1)\n",
    "#print(df)\n",
    "\n",
    "#droping columns in the dataset\n",
    "#df = df.drop(columns=['Totals'])\n",
    "#print(df)\n",
    "\n",
    "#adding the column totals \n",
    "#df['Total'] = df.iloc[:,4:10].sum(axis=1)\n",
    "#print(df.head(5))\n",
    "\n",
    "#Reordering the columns in the dataset \n",
    "\n",
    "cols=list(df.columns.values)\n",
    "df=df[cols[0:4] +[cols[-1]] + cols[4:12]]\n",
    "print(df)\n",
    "\n",
    "\n"
   ]
  },
  {
   "cell_type": "markdown",
   "metadata": {},
   "source": [
    "Saving the desired CSV file/data"
   ]
  },
  {
   "cell_type": "code",
   "execution_count": 6,
   "metadata": {},
   "outputs": [],
   "source": [
    "#df.to_csv(\"modified.csv\", index=False)\n",
    "##To change to excel format\n",
    "\n",
    "#df.to_excel(\"Modified.xlsx\",index=False)\n",
    "\n",
    "## to change to txt format\n",
    "df.to_csv(\"modified.txt\",index=False,sep=\"\\t\")"
   ]
  },
  {
   "cell_type": "markdown",
   "metadata": {},
   "source": [
    "Filtering Out the Data\n"
   ]
  },
  {
   "cell_type": "code",
   "execution_count": null,
   "metadata": {},
   "outputs": [],
   "source": [
    "#df.loc[(df['Type 1']=='Grass') & (df['Type 2']=='Poison')]\n",
    "\n",
    "##To use or in the pandas data frame we use | (Piping symbol)\n",
    "#df.loc[(df['Type 1']=='Grass') | (df['Type 2']=='Poison')]\n",
    "\n",
    "# new_df = df.loc[(df['Type 1']=='Grass') & (df['Type 2']=='Poison') & (df[\"HP\"]> 70)] # Remember that it is important to separate the condition using parenthesis\n",
    "\n",
    "\n",
    "#use .isin() function to select multiple elements using the or condition\n",
    "#top_oceania_wines = reviews.loc[(reviews[\"points\"]>=95) & (reviews[\"country\"].isin([\"Australia\",\"New Zealand\"]))]\n",
    "\n",
    "# #replacing the original index of the dataframe \n",
    "# new_df.reset_index(drop=True, inplace=True) # Remove the original index of the dataframe\n",
    "\n",
    "# new_df\n",
    "\n",
    "#When you want to filter out specific strings in the data\n",
    "df.loc[df['Name'].str.contains('Mega')]\n",
    "\n",
    "# #To reverse select the elements use the ~ to represent not the specified elements\n",
    "# df.loc[~df['Name'].str.contains('Mega')]\n",
    "\n",
    "#using the regular expresssions in pandas \n",
    "\n",
    "import re\n",
    "#This is used to filter out specific strings using regular expression\n",
    "#df.loc[df['Type 1'].str.contains('fire|grass',flags=re.I,regex= True)]\n",
    "\n",
    "#to filter out words starting with specific characters we use \n",
    "df.loc[df['Name'].str.contains('^pi[a-z]*',flags=re.I,regex=True)]\n",
    "\n",
    "\n",
    "\n",
    "\n",
    "\n"
   ]
  },
  {
   "cell_type": "markdown",
   "metadata": {},
   "source": [
    "Making conditional Changes to the dataframe"
   ]
  },
  {
   "cell_type": "code",
   "execution_count": 8,
   "metadata": {},
   "outputs": [],
   "source": [
    "# #Changing the name Fire to Flamer in the dataframme\n",
    "# df.loc[df['Type 1']=='Fire','Type 1'] ='Flamer'\n",
    "\n",
    "# #changin it back to fire from flamer\n",
    "# df.loc[df['Type 1']=='Flamer','Type 1'] ='Fire'\n",
    "\n",
    "#df.loc[df['Type 1']=='Fire','Legendary'] =\"True\"\n",
    "\n",
    "#to modify many conditions at a time we use\n",
    "\n",
    "#df.loc[df['Total']>500,['Legendary','Generation'] =['Test1','Test2']\n",
    "\n",
    "\n",
    "\n",
    "\n",
    "\n"
   ]
  },
  {
   "cell_type": "markdown",
   "metadata": {},
   "source": [
    "Aggregated Statistics using the groupby method"
   ]
  },
  {
   "cell_type": "code",
   "execution_count": 25,
   "metadata": {},
   "outputs": [
    {
     "data": {
      "text/plain": [
       "array(['Grass', 'Fire', 'Water', 'Bug', 'Normal', 'Poison', 'Electric',\n",
       "       'Ground', 'Fairy', 'Fighting', 'Psychic', 'Rock', 'Ghost', 'Ice',\n",
       "       'Dragon', 'Dark', 'Steel', 'Flying'], dtype=object)"
      ]
     },
     "execution_count": 25,
     "metadata": {},
     "output_type": "execute_result"
    }
   ],
   "source": [
    "df= pd.read_csv('modified.csv')\n",
    "df\n",
    "\n",
    "# df.groupby(['Type 1']).mean().sort_values(by=\"HP\",ascending=False)\n",
    "\n",
    "# df.groupby([\"Type 1\"]).sum()\n",
    "\n",
    "df['count'] =1  \n",
    "df.groupby([\"Type 1\", \"Type 2\"]).count()['count']\n",
    "\n",
    "\n",
    "#to get the unique characteristics of each element you can use unique fucntion instead of using the groupby function\n",
    "\n",
    "df['Type 1'].unique()\n",
    "\n",
    "\n",
    "#We'd like to host these wine reviews on our website, but a rating system ranging from 80 to 100 points is too hard\n",
    "# to understand - we'd like to translate them into simple star ratings. A score of 95 or higher counts as 3 stars, \n",
    "# a score of at least 85 but less than 95 is 2 stars. Any other score is 1 star.\n",
    "#reviews is a dataframe from Kaggle not imported here\n",
    "# def star(row):\n",
    "#     if row.country =='Canada':\n",
    "#         return 3\n",
    "#     elif row.points >= 95:\n",
    "#         return 3\n",
    "#     elif row.points >= 85:\n",
    "#         return 2\n",
    "#     else :\n",
    "#         return 1\n",
    "\n",
    "# star_ratings = reviews.apply(star,axis='columns')\n"
   ]
  },
  {
   "cell_type": "markdown",
   "metadata": {},
   "source": [
    "Using the  map function to map out arithmetic fucntions using pandas"
   ]
  },
  {
   "cell_type": "code",
   "execution_count": 29,
   "metadata": {},
   "outputs": [
    {
     "data": {
      "text/plain": [
       "'Normal'"
      ]
     },
     "execution_count": 29,
     "metadata": {},
     "output_type": "execute_result"
    }
   ],
   "source": [
    "#QSN\n",
    "#here are only so many words you can use when describing a bottle of wine. Is a wine more likely\n",
    "# to be \"tropical\" or \"fruity\"? Create a Series descriptor_counts counting how many times each \n",
    "# of these two words appears in the description column in the dataset\n",
    "\n",
    "# n_trop= reviews.description.map(lambda desc: \"tropical\" in desc).sum()\n",
    "# n_fruity = reviews.description.map(lambda desc: \"fruity\" in desc).sum()\n",
    "\n",
    "# descriptor_counts =pd.Series([n_trop,n_fruity],index =['tropical','fruity'])\n",
    "\n",
    "#'m an economical wine buyer. Which wine is the \"best bargain\"? \n",
    "# Create a variable bargain_wine with the title of the wine with the highest points-to-price ratio in the dataset.\n",
    "\n",
    "\n",
    "bargain_idx = (df.HP/df.Defense).idxmax()\n",
    "bargain_wine = df.loc[bargain_idx , \"Type 1\"]\n",
    "\n",
    "bargain_wine"
   ]
  },
  {
   "cell_type": "markdown",
   "metadata": {},
   "source": [
    "Working with Large amount of Data"
   ]
  },
  {
   "cell_type": "code",
   "execution_count": 22,
   "metadata": {},
   "outputs": [
    {
     "data": {
      "text/html": [
       "<div>\n",
       "<style scoped>\n",
       "    .dataframe tbody tr th:only-of-type {\n",
       "        vertical-align: middle;\n",
       "    }\n",
       "\n",
       "    .dataframe tbody tr th {\n",
       "        vertical-align: top;\n",
       "    }\n",
       "\n",
       "    .dataframe thead th {\n",
       "        text-align: right;\n",
       "    }\n",
       "</style>\n",
       "<table border=\"1\" class=\"dataframe\">\n",
       "  <thead>\n",
       "    <tr style=\"text-align: right;\">\n",
       "      <th></th>\n",
       "      <th>#</th>\n",
       "      <th>Name</th>\n",
       "      <th>Type 1</th>\n",
       "      <th>Type 2</th>\n",
       "      <th>Total</th>\n",
       "      <th>HP</th>\n",
       "      <th>Attack</th>\n",
       "      <th>Defense</th>\n",
       "      <th>Sp. Atk</th>\n",
       "      <th>Sp. Def</th>\n",
       "      <th>Speed</th>\n",
       "      <th>Generation</th>\n",
       "      <th>Legendary</th>\n",
       "    </tr>\n",
       "  </thead>\n",
       "  <tbody>\n",
       "    <tr>\n",
       "      <th>Bug</th>\n",
       "      <td>7</td>\n",
       "      <td>7</td>\n",
       "      <td>NaN</td>\n",
       "      <td>5</td>\n",
       "      <td>7</td>\n",
       "      <td>7</td>\n",
       "      <td>7</td>\n",
       "      <td>7</td>\n",
       "      <td>7</td>\n",
       "      <td>7</td>\n",
       "      <td>7</td>\n",
       "      <td>7</td>\n",
       "      <td>7</td>\n",
       "    </tr>\n",
       "    <tr>\n",
       "      <th>Fire</th>\n",
       "      <td>5</td>\n",
       "      <td>5</td>\n",
       "      <td>NaN</td>\n",
       "      <td>3</td>\n",
       "      <td>5</td>\n",
       "      <td>5</td>\n",
       "      <td>5</td>\n",
       "      <td>5</td>\n",
       "      <td>5</td>\n",
       "      <td>5</td>\n",
       "      <td>5</td>\n",
       "      <td>5</td>\n",
       "      <td>5</td>\n",
       "    </tr>\n",
       "    <tr>\n",
       "      <th>Grass</th>\n",
       "      <td>4</td>\n",
       "      <td>4</td>\n",
       "      <td>NaN</td>\n",
       "      <td>4</td>\n",
       "      <td>4</td>\n",
       "      <td>4</td>\n",
       "      <td>4</td>\n",
       "      <td>4</td>\n",
       "      <td>4</td>\n",
       "      <td>4</td>\n",
       "      <td>4</td>\n",
       "      <td>4</td>\n",
       "      <td>4</td>\n",
       "    </tr>\n",
       "    <tr>\n",
       "      <th>Water</th>\n",
       "      <td>4</td>\n",
       "      <td>4</td>\n",
       "      <td>NaN</td>\n",
       "      <td>0</td>\n",
       "      <td>4</td>\n",
       "      <td>4</td>\n",
       "      <td>4</td>\n",
       "      <td>4</td>\n",
       "      <td>4</td>\n",
       "      <td>4</td>\n",
       "      <td>4</td>\n",
       "      <td>4</td>\n",
       "      <td>4</td>\n",
       "    </tr>\n",
       "    <tr>\n",
       "      <th>Electric</th>\n",
       "      <td>2</td>\n",
       "      <td>2</td>\n",
       "      <td>NaN</td>\n",
       "      <td>0</td>\n",
       "      <td>2</td>\n",
       "      <td>2</td>\n",
       "      <td>2</td>\n",
       "      <td>2</td>\n",
       "      <td>2</td>\n",
       "      <td>2</td>\n",
       "      <td>2</td>\n",
       "      <td>2</td>\n",
       "      <td>2</td>\n",
       "    </tr>\n",
       "    <tr>\n",
       "      <th>...</th>\n",
       "      <td>...</td>\n",
       "      <td>...</td>\n",
       "      <td>...</td>\n",
       "      <td>...</td>\n",
       "      <td>...</td>\n",
       "      <td>...</td>\n",
       "      <td>...</td>\n",
       "      <td>...</td>\n",
       "      <td>...</td>\n",
       "      <td>...</td>\n",
       "      <td>...</td>\n",
       "      <td>...</td>\n",
       "      <td>...</td>\n",
       "    </tr>\n",
       "    <tr>\n",
       "      <th>Flying</th>\n",
       "      <td>2</td>\n",
       "      <td>2</td>\n",
       "      <td>NaN</td>\n",
       "      <td>2</td>\n",
       "      <td>2</td>\n",
       "      <td>2</td>\n",
       "      <td>2</td>\n",
       "      <td>2</td>\n",
       "      <td>2</td>\n",
       "      <td>2</td>\n",
       "      <td>2</td>\n",
       "      <td>2</td>\n",
       "      <td>2</td>\n",
       "    </tr>\n",
       "    <tr>\n",
       "      <th>Ghost</th>\n",
       "      <td>8</td>\n",
       "      <td>8</td>\n",
       "      <td>NaN</td>\n",
       "      <td>8</td>\n",
       "      <td>8</td>\n",
       "      <td>8</td>\n",
       "      <td>8</td>\n",
       "      <td>8</td>\n",
       "      <td>8</td>\n",
       "      <td>8</td>\n",
       "      <td>8</td>\n",
       "      <td>8</td>\n",
       "      <td>8</td>\n",
       "    </tr>\n",
       "    <tr>\n",
       "      <th>Ice</th>\n",
       "      <td>2</td>\n",
       "      <td>2</td>\n",
       "      <td>NaN</td>\n",
       "      <td>0</td>\n",
       "      <td>2</td>\n",
       "      <td>2</td>\n",
       "      <td>2</td>\n",
       "      <td>2</td>\n",
       "      <td>2</td>\n",
       "      <td>2</td>\n",
       "      <td>2</td>\n",
       "      <td>2</td>\n",
       "      <td>2</td>\n",
       "    </tr>\n",
       "    <tr>\n",
       "      <th>Psychic</th>\n",
       "      <td>2</td>\n",
       "      <td>2</td>\n",
       "      <td>NaN</td>\n",
       "      <td>2</td>\n",
       "      <td>2</td>\n",
       "      <td>2</td>\n",
       "      <td>2</td>\n",
       "      <td>2</td>\n",
       "      <td>2</td>\n",
       "      <td>2</td>\n",
       "      <td>2</td>\n",
       "      <td>2</td>\n",
       "      <td>2</td>\n",
       "    </tr>\n",
       "    <tr>\n",
       "      <th>Rock</th>\n",
       "      <td>2</td>\n",
       "      <td>2</td>\n",
       "      <td>NaN</td>\n",
       "      <td>2</td>\n",
       "      <td>2</td>\n",
       "      <td>2</td>\n",
       "      <td>2</td>\n",
       "      <td>2</td>\n",
       "      <td>2</td>\n",
       "      <td>2</td>\n",
       "      <td>2</td>\n",
       "      <td>2</td>\n",
       "      <td>2</td>\n",
       "    </tr>\n",
       "  </tbody>\n",
       "</table>\n",
       "<p>291 rows × 13 columns</p>\n",
       "</div>"
      ],
      "text/plain": [
       "          # Name Type 1 Type 2 Total HP Attack Defense Sp. Atk Sp. Def Speed  \\\n",
       "Bug       7    7    NaN      5     7  7      7       7       7       7     7   \n",
       "Fire      5    5    NaN      3     5  5      5       5       5       5     5   \n",
       "Grass     4    4    NaN      4     4  4      4       4       4       4     4   \n",
       "Water     4    4    NaN      0     4  4      4       4       4       4     4   \n",
       "Electric  2    2    NaN      0     2  2      2       2       2       2     2   \n",
       "...      ..  ...    ...    ...   ... ..    ...     ...     ...     ...   ...   \n",
       "Flying    2    2    NaN      2     2  2      2       2       2       2     2   \n",
       "Ghost     8    8    NaN      8     8  8      8       8       8       8     8   \n",
       "Ice       2    2    NaN      0     2  2      2       2       2       2     2   \n",
       "Psychic   2    2    NaN      2     2  2      2       2       2       2     2   \n",
       "Rock      2    2    NaN      2     2  2      2       2       2       2     2   \n",
       "\n",
       "         Generation Legendary  \n",
       "Bug               7         7  \n",
       "Fire              5         5  \n",
       "Grass             4         4  \n",
       "Water             4         4  \n",
       "Electric          2         2  \n",
       "...             ...       ...  \n",
       "Flying            2         2  \n",
       "Ghost             8         8  \n",
       "Ice               2         2  \n",
       "Psychic           2         2  \n",
       "Rock              2         2  \n",
       "\n",
       "[291 rows x 13 columns]"
      ]
     },
     "execution_count": 22,
     "metadata": {},
     "output_type": "execute_result"
    }
   ],
   "source": [
    "#use when the data has a lot of memory and we are required to only import chunksizes of rows from the data\n",
    "# for df in pd.read_csv(\"modified.csv\", chunksize=20):\n",
    "#     print(\"CHUNK DF\")\n",
    "#     print(df)\n",
    "    \n",
    "    \n",
    "new_df =pd.DataFrame(columns=df.columns)\n",
    "\n",
    "for df in pd.read_csv(\"modified.csv\", chunksize=20):\n",
    "    results = df.groupby(['Type 1']).count()\n",
    "    new_df = pd.concat([new_df, results])\n",
    "    \n",
    "new_df     \n",
    "    "
   ]
  }
 ],
 "metadata": {
  "kernelspec": {
   "display_name": "Python 3.9.12 ('base')",
   "language": "python",
   "name": "python3"
  },
  "language_info": {
   "codemirror_mode": {
    "name": "ipython",
    "version": 3
   },
   "file_extension": ".py",
   "mimetype": "text/x-python",
   "name": "python",
   "nbconvert_exporter": "python",
   "pygments_lexer": "ipython3",
   "version": "3.9.12"
  },
  "orig_nbformat": 4,
  "vscode": {
   "interpreter": {
    "hash": "5179d32cf6ec497baf3f8a3ef987cc77c5d2dc691fdde20a56316522f61a7323"
   }
  }
 },
 "nbformat": 4,
 "nbformat_minor": 2
}
